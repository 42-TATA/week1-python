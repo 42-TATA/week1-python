{
 "cells": [
  {
   "cell_type": "markdown",
   "metadata": {},
   "source": [
    "## Imports\n",
    "\n",
    "So far we've talked about types and functions which are built-in to the language. \n",
    "\n",
    "But one of the best things about Python is the vast number of high-quality custom libraries that have been written for it. \n",
    "\n",
    "Some of these libraries are in the \"standard library\", meaning we can find them anywhere we run Python. Others libraries can be easily added, even if they aren't always shipped with Python.\n",
    "\n",
    "Either way, we'll access this code with **imports**.\n",
    "\n",
    "We'll start our example by importing `math` from the standard library."
   ]
  },
  {
   "cell_type": "code",
   "execution_count": null,
   "metadata": {},
   "outputs": [],
   "source": [
    "import math\n",
    "\n",
    "print(\"It's math! It has type {}\".format(type(math)))"
   ]
  },
  {
   "cell_type": "markdown",
   "metadata": {},
   "source": [
    "`math` is a module. A module is just a collection of variables (a *namespace*) defined by someone else. We can see all the names in `math` using the built-in function `dir()`."
   ]
  },
  {
   "cell_type": "code",
   "execution_count": null,
   "metadata": {},
   "outputs": [],
   "source": [
    "print(dir(math))"
   ]
  },
  {
   "cell_type": "markdown",
   "metadata": {},
   "source": [
    "We can access these variables using dot syntax. Some of them refer to simple values, like `math.pi`:"
   ]
  },
  {
   "cell_type": "code",
   "execution_count": null,
   "metadata": {},
   "outputs": [],
   "source": [
    "print(\"pi to 4 significant digits = {:.4}\".format(math.pi))"
   ]
  },
  {
   "cell_type": "markdown",
   "metadata": {},
   "source": [
    "But most of what we'll find in the module are functions, like `math.log`:"
   ]
  },
  {
   "cell_type": "code",
   "execution_count": null,
   "metadata": {},
   "outputs": [],
   "source": [
    "math.log(32, 2)"
   ]
  },
  {
   "cell_type": "markdown",
   "metadata": {},
   "source": [
    "Of course, if we don't know what `math.log` does, we can call `help()` on it:"
   ]
  },
  {
   "cell_type": "code",
   "execution_count": null,
   "metadata": {},
   "outputs": [],
   "source": [
    "help(math.log)"
   ]
  },
  {
   "cell_type": "markdown",
   "metadata": {},
   "source": [
    "We can also call `help()` on the module itself. This will give us the combined documentation for *all* the functions and values in the module (as well as a high-level description of the module). Click the \"output\" button to see the whole `math` help page."
   ]
  },
  {
   "cell_type": "code",
   "execution_count": null,
   "metadata": {
    "_kg_hide-output": true
   },
   "outputs": [],
   "source": [
    "help(math)"
   ]
  },
  {
   "cell_type": "markdown",
   "metadata": {},
   "source": [
    "### Other import syntax\n",
    "\n",
    "If we know we'll be using functions in `math` frequently we can import it under a shorter alias to save some typing (though in this case \"math\" is already pretty short)."
   ]
  },
  {
   "cell_type": "code",
   "execution_count": null,
   "metadata": {},
   "outputs": [],
   "source": [
    "import math as mt\n",
    "mt.pi"
   ]
  },
  {
   "cell_type": "markdown",
   "metadata": {},
   "source": [
    "> Certain popular libraries like Pandas, Numpy, Tensorflow, or Matplotlib are almost always imported this way. For example, it's a common convention to `import numpy as np` and `import pandas as pd`."
   ]
  },
  {
   "cell_type": "markdown",
   "metadata": {},
   "source": [
    "The `as` simply renames the imported module. It's equivalent to doing something like:"
   ]
  },
  {
   "cell_type": "code",
   "execution_count": null,
   "metadata": {
    "collapsed": true,
    "jupyter": {
     "outputs_hidden": true
    }
   },
   "outputs": [],
   "source": [
    "import math\n",
    "mt = math"
   ]
  },
  {
   "cell_type": "markdown",
   "metadata": {},
   "source": [
    "Wouldn't it be great if we could refer to all the variables in the `math` module by themselves? i.e. if we could just refer to `pi` instead of `math.pi` or `mt.pi`? Good news: we can do that."
   ]
  },
  {
   "cell_type": "code",
   "execution_count": null,
   "metadata": {},
   "outputs": [],
   "source": [
    "from math import *\n",
    "print(pi, log(32, 2))"
   ]
  },
  {
   "cell_type": "markdown",
   "metadata": {},
   "source": [
    "`import *` makes all the module's variables directly accessible to us (without any dotted prefix).\n",
    "\n",
    "Bad news: some people might grumble at us for doing this.\n",
    "\n",
    "Worse: they kind of have a point."
   ]
  },
  {
   "cell_type": "code",
   "execution_count": null,
   "metadata": {
    "tags": [
     "raises-exception"
    ]
   },
   "outputs": [],
   "source": [
    "from math import *\n",
    "from numpy import *\n",
    "print(pi, log(32, 2))"
   ]
  },
  {
   "cell_type": "markdown",
   "metadata": {},
   "source": [
    "What the what? But it worked before!\n",
    "\n",
    "These kinds of \"star imports\" can occasionally lead to weird, difficult-to-debug situations.\n",
    "\n",
    "The problem in this case is that the `math` and `numpy` modules both have functions called `log`, but they have different semantics. Because we import from `numpy` second, its `log` overwrites (or \"shadows\") the `log` variable we imported from `math`.\n",
    "\n",
    "A good compromise is to import only the specific things we'll need from each module:"
   ]
  },
  {
   "cell_type": "code",
   "execution_count": null,
   "metadata": {},
   "outputs": [],
   "source": [
    "from math import log, pi\n",
    "from numpy import asarray"
   ]
  },
  {
   "cell_type": "markdown",
   "metadata": {},
   "source": [
    "### Submodules\n",
    "\n",
    "We've seen that modules contain variables which can refer to functions or values. Something to be aware of is that they can also have variables referring to *other modules*. "
   ]
  },
  {
   "cell_type": "code",
   "execution_count": 4,
   "metadata": {},
   "outputs": [
    {
     "name": "stdout",
     "output_type": "stream",
     "text": [
      "numpy.random is a <class 'module'>\n",
      "it contains names such as... ['set_state', 'sfc64', 'shuffle', 'standard_cauchy', 'standard_exponential', 'standard_gamma', 'standard_normal', 'standard_t', 'test', 'triangular', 'uniform', 'vonmises', 'wald', 'weibull', 'zipf']\n"
     ]
    }
   ],
   "source": [
    "import numpy\n",
    "print(\"numpy.random is a\", type(numpy.random))\n",
    "print(\"it contains names such as...\",\n",
    "      dir(numpy.random)[-15:]\n",
    "     )"
   ]
  },
  {
   "cell_type": "markdown",
   "metadata": {},
   "source": [
    "So if we import `numpy` as above, then calling a function in the `random` \"submodule\" will require *two* dots."
   ]
  },
  {
   "cell_type": "code",
   "execution_count": 5,
   "metadata": {},
   "outputs": [
    {
     "data": {
      "text/plain": [
       "array([4, 4, 4, 3, 5, 1, 3, 3, 3, 2])"
      ]
     },
     "execution_count": 5,
     "metadata": {},
     "output_type": "execute_result"
    }
   ],
   "source": [
    "# Roll 10 dice\n",
    "rolls = numpy.random.randint(low=1, high=6, size=10)\n",
    "rolls"
   ]
  },
  {
   "cell_type": "markdown",
   "metadata": {},
   "source": [
    "# External Libraries\n",
    "\n",
    "By now we're pros with ints, floats, bools, lists, strings, and dicts, right?. \n",
    "\n",
    "Even if that were true, it doesn't end there. As we work with various libraries for specialized tasks, we'll find that they define their own types which we'll have to learn to work with. For example, if we work with the graphing library `matplotlib`, we'll come into contact with objects it defines which represent Subplots, Figures, TickMarks, and Annotations. `pandas` functions will give us DataFrames and Series. \n",
    "\n",
    "## Three tools for understanding objects\n",
    "\n",
    "In the cell above, we saw that calling a `numpy` function gave us an \"array\". We've never seen anything like this before (not in this course anyways). No need to panic, we have three familiar builtin functions to help us here.\n",
    "\n",
    "**1: `type()`** (what is this thing?)"
   ]
  },
  {
   "cell_type": "code",
   "execution_count": null,
   "metadata": {},
   "outputs": [],
   "source": [
    "type(rolls)"
   ]
  },
  {
   "cell_type": "markdown",
   "metadata": {},
   "source": [
    "**2: `dir()`** (what can I do with it?)"
   ]
  },
  {
   "cell_type": "code",
   "execution_count": null,
   "metadata": {},
   "outputs": [],
   "source": [
    "print(dir(rolls))"
   ]
  },
  {
   "cell_type": "code",
   "execution_count": null,
   "metadata": {},
   "outputs": [],
   "source": [
    "# What am I trying to do with this dice roll data? Maybe I want the average roll, in which case the \"mean\"\n",
    "# method looks promising...\n",
    "rolls.mean()"
   ]
  },
  {
   "cell_type": "code",
   "execution_count": null,
   "metadata": {},
   "outputs": [],
   "source": [
    "# Or maybe I just want to get back on familiar ground, in which case I might want to check out \"tolist\"\n",
    "rolls.tolist()"
   ]
  },
  {
   "cell_type": "markdown",
   "metadata": {},
   "source": [
    "**3: `help()`** (tell me more)"
   ]
  },
  {
   "cell_type": "code",
   "execution_count": null,
   "metadata": {},
   "outputs": [],
   "source": [
    "# That \"ravel\" attribute sounds interesting. I'm a big classical music fan.\n",
    "help(rolls.ravel)"
   ]
  },
  {
   "cell_type": "code",
   "execution_count": null,
   "metadata": {
    "_kg_hide-output": true
   },
   "outputs": [],
   "source": [
    "# Okay, just tell me everything there is to know about numpy.ndarray\n",
    "# (Click the \"output\" button to see the novel-length output)\n",
    "help(rolls)"
   ]
  },
  {
   "cell_type": "markdown",
   "metadata": {},
   "source": [
    "(Of course, we might also prefer to check out [the online docs](https://docs.scipy.org/doc/numpy-1.14.0/reference/generated/numpy.ndarray.html))"
   ]
  },
  {
   "cell_type": "markdown",
   "metadata": {},
   "source": [
    "---\n",
    "**[Week 1 - Python](https://radu-enuca.gitbook.io/ml-challenge/python)**\n",
    "\n",
    "*Have questions or comments? Visit the ML Challenge Mattermost Channel.*"
   ]
  }
 ],
 "metadata": {
  "kernelspec": {
   "display_name": "Python 3",
   "language": "python",
   "name": "python3"
  },
  "language_info": {
   "codemirror_mode": {
    "name": "ipython",
    "version": 3
   },
   "file_extension": ".py",
   "mimetype": "text/x-python",
   "name": "python",
   "nbconvert_exporter": "python",
   "pygments_lexer": "ipython3",
   "version": "3.7.4"
  },
  "learntools_metadata": {
   "lesson_index": 6,
   "type": "tutorial"
  }
 },
 "nbformat": 4,
 "nbformat_minor": 4
}
