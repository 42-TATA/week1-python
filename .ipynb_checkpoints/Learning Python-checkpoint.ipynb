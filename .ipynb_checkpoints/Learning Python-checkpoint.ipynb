{
  "nbformat": 4,
  "nbformat_minor": 0,
  "metadata": {
    "kernelspec": {
      "display_name": "Python 3",
      "language": "python",
      "name": "python3"
    },
    "language_info": {
      "codemirror_mode": {
        "name": "ipython",
        "version": 3
      },
      "file_extension": ".py",
      "mimetype": "text/x-python",
      "name": "python",
      "nbconvert_exporter": "python",
      "pygments_lexer": "ipython3",
      "version": "3.5.2"
    },
    "colab": {
      "name": "week1-learning-python3.ipynb",
      "provenance": [],
      "collapsed_sections": [
        "GS1GToITFeFq",
        "-4yE_HAdJ7lV"
      ]
    }
  },
  "cells": [
    {
      "cell_type": "markdown",
      "metadata": {
        "colab_type": "text",
        "id": "us3PlU8CXh8A"
      },
      "source": [
        "# Learning Python\n",
        "\n",
        "---"
      ]
    },
    {
      "cell_type": "markdown",
      "metadata": {
        "colab_type": "text",
        "id": "CcaYq1KMrGv8"
      },
      "source": [
        "## What is a Jupyter Notebook?\n",
        "\n",
        "A Jupyter notebook is an electronic file that contains both programming code and text descriptions. Jupyter notebooks can also contain embedded charts, plots, images, videos, and links."
      ]
    },
    {
      "cell_type": "markdown",
      "metadata": {
        "colab_type": "text",
        "deletable": true,
        "editable": true,
        "id": "BK51sQ3MFeDO"
      },
      "source": [
        "\n",
        "## Google Colaboratory\n",
        "\n",
        "It is a **Jupyter notebook** environment that runs in the cloud and has almost **all packages for machine learning** installed.\n",
        "\n",
        "It is **free** to use and it offers a free GPU runtime.\n",
        "\n",
        "---"
      ]
    },
    {
      "cell_type": "markdown",
      "metadata": {
        "colab_type": "text",
        "deletable": true,
        "editable": true,
        "id": "OygyHT8zFeDL"
      },
      "source": [
        "## Quick note about Jupyter cells\n",
        "\n",
        "When you are editing a cell in Jupyter notebook, you need to re-run the cell by pressing **`<Shift> + <Enter>`**. This will allow changes you made to be available to other cells.\n",
        "\n",
        "Use **`<Enter>`** to make new lines inside a cell you are editing.\n",
        "\n",
        "#### Code cells\n",
        "\n",
        "Re-running will execute any statements you have written. To edit an existing code cell, click on it.\n",
        "\n",
        "#### Markdown cells\n",
        "\n",
        "Re-running will render the markdown text. To edit an existing markdown cell, double-click on it.\n",
        "\n",
        "#### Magic Commands\n",
        "\n",
        "Jupyter notebook code cells can contain special commands which are not valid Python code but affect the behavior of the notebook. These special commands are called magic commands.\n",
        "\n",
        "```\n",
        "%matplotlib inline # renders Matplotlib plots in cells of the notebook\n",
        "```\n",
        "---"
      ]
    },
    {
      "cell_type": "markdown",
      "metadata": {
        "colab_type": "text",
        "deletable": true,
        "editable": true,
        "id": "h0qxBoYOFeDP"
      },
      "source": [
        "## References\n",
        "\n",
        "- https://try.jupyter.org\n",
        "- https://docs.python.org/3/tutorial/index.html\n",
        "- https://docs.python.org/3/tutorial/introduction.html\n",
        "- https://daringfireball.net/projects/markdown/syntax\n",
        "\n",
        "<hr>"
      ]
    },
    {
      "cell_type": "markdown",
      "metadata": {
        "colab_type": "text",
        "deletable": true,
        "editable": true,
        "id": "kHPSl_doFeDR"
      },
      "source": [
        "## Python objects, basic types, and variables\n",
        "\n",
        "Everything in Python is an **object** and every object in Python has a **type**. Some of the basic types include:\n",
        "\n",
        "- **`int`** (integer; a whole number with no decimal place)\n",
        "  - `10`\n",
        "  - `-3`\n",
        "- **`float`** (float; a number that has a decimal place)\n",
        "  - `7.41`\n",
        "  - `-0.006`\n",
        "- **`str`** (string; a sequence of characters enclosed in single quotes, double quotes, or triple quotes)\n",
        "  - `'this is a string using single quotes'`\n",
        "  - `\"this is a string using double quotes\"`\n",
        "  - `'''this is a triple quoted string using single quotes'''`\n",
        "  - `\"\"\"this is a triple quoted string using double quotes\"\"\"`\n",
        "- **`bool`** (boolean; a binary value that is either true or false)\n",
        "  - `True`\n",
        "  - `False`\n",
        "- **`NoneType`** (a special type representing the absence of a value)\n",
        "  - `None`\n",
        "\n",
        "In Python, a **variable** is a name you specify in your code that maps to a particular **object**, object **instance**, or value.\n",
        "\n",
        "By defining variables, we can refer to things by names that make sense to us. Names for variables can only contain letters, underscores (`_`), or numbers (no spaces, dashes, or other characters). Variable names must start with a letter or underscore.\n",
        "\n",
        "<hr>"
      ]
    },
    {
      "cell_type": "markdown",
      "metadata": {
        "colab_type": "text",
        "deletable": true,
        "editable": true,
        "id": "AaeNWgmIFeDS"
      },
      "source": [
        "## Basic operators\n",
        "\n",
        "In Python, there are different types of **operators** (special symbols) that operate on different values. Some of the basic operators include:\n",
        "\n",
        "- arithmetic operators\n",
        "  - **`+`** (addition)\n",
        "  - **`-`** (subtraction)\n",
        "  - **`*`** (multiplication)\n",
        "  - **`/`** (division)\n",
        "  - __`**`__ (exponent)\n",
        "- assignment operators\n",
        "  - **`=`** (assign a value)\n",
        "  - **`+=`** (add and re-assign; increment)\n",
        "  - **`-=`** (subtract and re-assign; decrement)\n",
        "  - **`*=`** (multiply and re-assign)\n",
        "- comparison operators (return either `True` or `False`)\n",
        "  - **`==`** (equal to)\n",
        "  - **`!=`** (not equal to)\n",
        "  - **`<`** (less than)\n",
        "  - **`<=`** (less than or equal to)\n",
        "  - **`>`** (greater than)\n",
        "  - **`>=`** (greater than or equal to)\n",
        "\n",
        "When multiple operators are used in a single expression, **operator precedence** determines which parts of the expression are evaluated in which order. Operators with higher precedence are evaluated first (like PEMDAS in math). Operators with the same precedence are evaluated from left to right.\n",
        "\n",
        "- `()` parentheses, for grouping\n",
        "- `**` exponent\n",
        "- `*`, `/` multiplication and division\n",
        "- `+`, `-` addition and subtraction\n",
        "- `==`, `!=`, `<`, `<=`, `>`, `>=` comparisons\n",
        "\n",
        "> See https://docs.python.org/3/reference/expressions.html#operator-precedence"
      ]
    },
    {
      "cell_type": "code",
      "execution_count": 0,
      "metadata": {
        "colab": {},
        "colab_type": "code",
        "deletable": true,
        "editable": true,
        "id": "wPJQSMEZFeDT"
      },
      "outputs": [],
      "source": [
        "# Assigning some numbers to different variables\n",
        "num1 = 10\n",
        "num2 = -3\n",
        "num3 = 7.41\n",
        "num4 = -.6\n",
        "num5 = 7\n",
        "num6 = 3\n",
        "num7 = 11.11"
      ]
    },
    {
      "cell_type": "code",
      "execution_count": 0,
      "metadata": {
        "colab": {},
        "colab_type": "code",
        "deletable": true,
        "editable": true,
        "id": "ekPchVXUFeDX"
      },
      "outputs": [],
      "source": [
        "# Addition\n",
        "num1 + num2"
      ]
    },
    {
      "cell_type": "code",
      "execution_count": 0,
      "metadata": {
        "colab": {},
        "colab_type": "code",
        "deletable": true,
        "editable": true,
        "id": "Ajyi2YSuFeDb"
      },
      "outputs": [],
      "source": [
        "# Subtraction\n",
        "num2 - num3"
      ]
    },
    {
      "cell_type": "code",
      "execution_count": 0,
      "metadata": {
        "colab": {},
        "colab_type": "code",
        "deletable": true,
        "editable": true,
        "id": "gwVdgXgmFeDd"
      },
      "outputs": [],
      "source": [
        "# Multiplication\n",
        "num3 * num4"
      ]
    },
    {
      "cell_type": "code",
      "execution_count": 0,
      "metadata": {
        "colab": {},
        "colab_type": "code",
        "deletable": true,
        "editable": true,
        "id": "voJ_TX28FeDg"
      },
      "outputs": [],
      "source": [
        "# Division\n",
        "num4 / num5"
      ]
    },
    {
      "cell_type": "code",
      "execution_count": 0,
      "metadata": {
        "colab": {},
        "colab_type": "code",
        "deletable": true,
        "editable": true,
        "id": "hJG7w49bFeDj"
      },
      "outputs": [],
      "source": [
        "# Exponent\n",
        "num5 ** num6"
      ]
    },
    {
      "cell_type": "code",
      "execution_count": 0,
      "metadata": {
        "colab": {},
        "colab_type": "code",
        "deletable": true,
        "editable": true,
        "id": "t90_IXS1FeDm"
      },
      "outputs": [],
      "source": [
        "# Increment existing variable\n",
        "num7 += 4\n",
        "num7"
      ]
    },
    {
      "cell_type": "code",
      "execution_count": 0,
      "metadata": {
        "colab": {},
        "colab_type": "code",
        "deletable": true,
        "editable": true,
        "id": "DcduBntsFeDp"
      },
      "outputs": [],
      "source": [
        "# Decrement existing variable\n",
        "num6 -= 2\n",
        "num6"
      ]
    },
    {
      "cell_type": "code",
      "execution_count": 0,
      "metadata": {
        "colab": {},
        "colab_type": "code",
        "deletable": true,
        "editable": true,
        "id": "1jsTBdREFeDr"
      },
      "outputs": [],
      "source": [
        "# Multiply & re-assign\n",
        "num3 *= 5\n",
        "num3"
      ]
    },
    {
      "cell_type": "code",
      "execution_count": 0,
      "metadata": {
        "colab": {},
        "colab_type": "code",
        "deletable": true,
        "editable": true,
        "id": "eVYYqV4UFeDu"
      },
      "outputs": [],
      "source": [
        "# Assign the value of an expression to a variable\n",
        "num8 = num1 + num2 * num3\n",
        "num8"
      ]
    },
    {
      "cell_type": "code",
      "execution_count": 0,
      "metadata": {
        "colab": {},
        "colab_type": "code",
        "deletable": true,
        "editable": true,
        "id": "XnOZRB7_FeDx"
      },
      "outputs": [],
      "source": [
        "# Are these two expressions equal to each other?\n",
        "num1 + num2 == num5"
      ]
    },
    {
      "cell_type": "code",
      "execution_count": 0,
      "metadata": {
        "colab": {},
        "colab_type": "code",
        "deletable": true,
        "editable": true,
        "id": "AjQ-qXGkFeD0"
      },
      "outputs": [],
      "source": [
        "# Are these two expressions not equal to each other?\n",
        "num3 != num4"
      ]
    },
    {
      "cell_type": "code",
      "execution_count": 0,
      "metadata": {
        "colab": {},
        "colab_type": "code",
        "deletable": true,
        "editable": true,
        "id": "nyWOAr4GFeD2"
      },
      "outputs": [],
      "source": [
        "# Is the first expression less than the second expression?\n",
        "num5 < num6"
      ]
    },
    {
      "cell_type": "code",
      "execution_count": 0,
      "metadata": {
        "colab": {},
        "colab_type": "code",
        "deletable": true,
        "editable": true,
        "id": "Hg99bktLFeD5"
      },
      "outputs": [],
      "source": [
        "# Is this expression True?\n",
        "5 > 3 > 1"
      ]
    },
    {
      "cell_type": "code",
      "execution_count": 0,
      "metadata": {
        "colab": {},
        "colab_type": "code",
        "deletable": true,
        "editable": true,
        "id": "DxpaxCdrFeD8"
      },
      "outputs": [],
      "source": [
        "# Is this expression True?\n",
        "5 > 3 < 4 == 3 + 1"
      ]
    },
    {
      "cell_type": "code",
      "execution_count": 0,
      "metadata": {
        "colab": {},
        "colab_type": "code",
        "deletable": true,
        "editable": true,
        "id": "fN6AjOftFeD_"
      },
      "outputs": [],
      "source": [
        "# Assign some strings to different variables\n",
        "simple_string1 = 'an example'\n",
        "simple_string2 = \"oranges \""
      ]
    },
    {
      "cell_type": "code",
      "execution_count": 0,
      "metadata": {
        "colab": {},
        "colab_type": "code",
        "deletable": true,
        "editable": true,
        "id": "dewQDE1BFeEB"
      },
      "outputs": [],
      "source": [
        "# Addition\n",
        "simple_string1 + ' of using the + operator'"
      ]
    },
    {
      "cell_type": "code",
      "execution_count": 0,
      "metadata": {
        "colab": {},
        "colab_type": "code",
        "deletable": true,
        "editable": true,
        "id": "6s86YXfIFeEE"
      },
      "outputs": [],
      "source": [
        "# Notice that the string was not modified\n",
        "simple_string1"
      ]
    },
    {
      "cell_type": "code",
      "execution_count": 0,
      "metadata": {
        "colab": {},
        "colab_type": "code",
        "deletable": true,
        "editable": true,
        "id": "dE41S7PlFeEH"
      },
      "outputs": [],
      "source": [
        "# Multiplication\n",
        "simple_string2 * 4"
      ]
    },
    {
      "cell_type": "code",
      "execution_count": 0,
      "metadata": {
        "colab": {},
        "colab_type": "code",
        "deletable": true,
        "editable": true,
        "id": "0EjLeaHWFeEM"
      },
      "outputs": [],
      "source": [
        "# This string wasn't modified either\n",
        "simple_string2"
      ]
    },
    {
      "cell_type": "code",
      "execution_count": 0,
      "metadata": {
        "colab": {},
        "colab_type": "code",
        "deletable": true,
        "editable": true,
        "id": "drF87L6iFeEP"
      },
      "outputs": [],
      "source": [
        "# Are these two expressions equal to each other?\n",
        "simple_string1 == simple_string2"
      ]
    },
    {
      "cell_type": "code",
      "execution_count": 0,
      "metadata": {
        "colab": {},
        "colab_type": "code",
        "deletable": true,
        "editable": true,
        "id": "tnfaaBrJFeES"
      },
      "outputs": [],
      "source": [
        "# Are these two expressions equal to each other?\n",
        "simple_string1 == 'an example'"
      ]
    },
    {
      "cell_type": "code",
      "execution_count": 0,
      "metadata": {
        "colab": {},
        "colab_type": "code",
        "deletable": true,
        "editable": true,
        "id": "BTIYps7RFeEY"
      },
      "outputs": [],
      "source": [
        "# Add and re-assign\n",
        "simple_string1 += ' that re-assigned the original string'\n",
        "simple_string1"
      ]
    },
    {
      "cell_type": "code",
      "execution_count": 0,
      "metadata": {
        "colab": {},
        "colab_type": "code",
        "deletable": true,
        "editable": true,
        "id": "fLLqaKGsFeEc"
      },
      "outputs": [],
      "source": [
        "# Multiply and re-assign\n",
        "simple_string2 *= 3\n",
        "simple_string2"
      ]
    },
    {
      "cell_type": "code",
      "execution_count": 0,
      "metadata": {
        "colab": {},
        "colab_type": "code",
        "deletable": true,
        "editable": true,
        "id": "ZHPGgJBWFeEf"
      },
      "outputs": [],
      "source": [
        "# Note: Subtraction, division, and decrement operators do not apply to strings."
      ]
    },
    {
      "cell_type": "markdown",
      "metadata": {
        "colab_type": "text",
        "deletable": true,
        "editable": true,
        "id": "qmIa01UOFeEi"
      },
      "source": [
        "## Basic containers\n",
        "\n",
        "> Note: **mutable** objects can be modified after creation and **immutable** objects cannot.\n",
        "\n",
        "Containers are objects that can be used to group other objects together. The basic container types include:\n",
        "\n",
        "- **`str`** (string: immutable; indexed by integers; items are stored in the order they were added)\n",
        "- **`list`** (list: mutable; indexed by integers; items are stored in the order they were added)\n",
        "  - `[3, 5, 6, 3, 'dog', 'cat', False]`\n",
        "- **`tuple`** (tuple: immutable; indexed by integers; items are stored in the order they were added)\n",
        "  - `(3, 5, 6, 3, 'dog', 'cat', False)`\n",
        "- **`set`** (set: mutable; not indexed at all; items are NOT stored in the order they were added; can only contain immutable objects; does NOT contain duplicate objects)\n",
        "  - `{3, 5, 6, 3, 'dog', 'cat', False}`\n",
        "- **`dict`** (dictionary: mutable; key-value pairs are indexed by immutable keys; items are NOT stored in the order they were added)\n",
        "  - `{'name': 'Jane', 'age': 23, 'fav_foods': ['pizza', 'fruit', 'fish']}`\n",
        "\n",
        "When defining lists, tuples, or sets, use commas (,) to separate the individual items. When defining dicts, use a colon (:) to separate keys from values and commas (,) to separate the key-value pairs.\n",
        "\n",
        "Strings, lists, and tuples are all **sequence types** that can use the `+`, `*`, `+=`, and `*=` operators."
      ]
    },
    {
      "cell_type": "code",
      "execution_count": 0,
      "metadata": {
        "colab": {},
        "colab_type": "code",
        "deletable": true,
        "editable": true,
        "id": "01t08GWNFeEj"
      },
      "outputs": [],
      "source": [
        "# Assign some containers to different variables\n",
        "list1 = [3, 5, 6, 3, 'dog', 'cat', False]\n",
        "tuple1 = (3, 5, 6, 3, 'dog', 'cat', False)\n",
        "set1 = {3, 5, 6, 3, 'dog', 'cat', False}\n",
        "dict1 = {'name': 'Jane', 'age': 23, 'fav_foods': ['pizza', 'fruit', 'fish']}"
      ]
    },
    {
      "cell_type": "code",
      "execution_count": 0,
      "metadata": {
        "colab": {},
        "colab_type": "code",
        "deletable": true,
        "editable": true,
        "id": "XPQg4DF4FeEm"
      },
      "outputs": [],
      "source": [
        "# Items in the list object are stored in the order they were added\n",
        "list1"
      ]
    },
    {
      "cell_type": "code",
      "execution_count": 0,
      "metadata": {
        "colab": {},
        "colab_type": "code",
        "deletable": true,
        "editable": true,
        "id": "KEPqal0fFeEp"
      },
      "outputs": [],
      "source": [
        "# Items in the tuple object are stored in the order they were added\n",
        "tuple1"
      ]
    },
    {
      "cell_type": "code",
      "execution_count": 0,
      "metadata": {
        "colab": {},
        "colab_type": "code",
        "deletable": true,
        "editable": true,
        "id": "iOzpT35DFeEr"
      },
      "outputs": [],
      "source": [
        "# Items in the set object are not stored in the order they were added\n",
        "# Also, notice that the value 3 only appears once in this set object\n",
        "set1"
      ]
    },
    {
      "cell_type": "code",
      "execution_count": 0,
      "metadata": {
        "colab": {},
        "colab_type": "code",
        "deletable": true,
        "editable": true,
        "id": "Sow5j61yFeEu"
      },
      "outputs": [],
      "source": [
        "# Items in the dict object are not stored in the order they were added\n",
        "dict1"
      ]
    },
    {
      "cell_type": "code",
      "execution_count": 0,
      "metadata": {
        "colab": {},
        "colab_type": "code",
        "deletable": true,
        "editable": true,
        "id": "hR6XJGnjFeEx"
      },
      "outputs": [],
      "source": [
        "# Add and re-assign\n",
        "list1 += [5, 'grapes']\n",
        "list1"
      ]
    },
    {
      "cell_type": "code",
      "execution_count": 0,
      "metadata": {
        "colab": {},
        "colab_type": "code",
        "deletable": true,
        "editable": true,
        "id": "sXy4TRe6FeE0"
      },
      "outputs": [],
      "source": [
        "# Add and re-assign\n",
        "tuple1 += (5, 'grapes')\n",
        "tuple1"
      ]
    },
    {
      "cell_type": "code",
      "execution_count": 0,
      "metadata": {
        "colab": {},
        "colab_type": "code",
        "deletable": true,
        "editable": true,
        "id": "7anJSlE9FeE2"
      },
      "outputs": [],
      "source": [
        "# Multiply\n",
        "[1, 2, 3, 4] * 2"
      ]
    },
    {
      "cell_type": "code",
      "execution_count": 0,
      "metadata": {
        "colab": {},
        "colab_type": "code",
        "deletable": true,
        "editable": true,
        "id": "oKNXMbqsFeE4"
      },
      "outputs": [],
      "source": [
        "# Multiply\n",
        "(1, 2, 3, 4) * 3"
      ]
    },
    {
      "cell_type": "markdown",
      "metadata": {
        "colab_type": "text",
        "deletable": true,
        "editable": true,
        "id": "12icbEj5FeE6"
      },
      "source": [
        "## Accessing data in containers\n",
        "\n",
        "For strings, lists, tuples, and dicts, we can use **subscript notation** (square brackets) to access data at an index.\n",
        "\n",
        "- strings, lists, and tuples are indexed by integers, **starting at 0** for first item\n",
        "  - these sequence types also support accesing a range of items, known as **slicing**\n",
        "  - use **negative indexing** to start at the back of the sequence\n",
        "- dicts are indexed by their keys\n",
        "\n",
        "> Note: sets are not indexed, so we cannot use subscript notation to access data elements."
      ]
    },
    {
      "cell_type": "code",
      "execution_count": 0,
      "metadata": {
        "colab": {},
        "colab_type": "code",
        "deletable": true,
        "editable": true,
        "id": "u-mrjMOmFeE7"
      },
      "outputs": [],
      "source": [
        "# Access the first item in a sequence\n",
        "list1[0]"
      ]
    },
    {
      "cell_type": "code",
      "execution_count": 0,
      "metadata": {
        "colab": {},
        "colab_type": "code",
        "deletable": true,
        "editable": true,
        "id": "QR3hApoLFeE-"
      },
      "outputs": [],
      "source": [
        "# Access the last item in a sequence\n",
        "tuple1[-1]"
      ]
    },
    {
      "cell_type": "code",
      "execution_count": 0,
      "metadata": {
        "colab": {},
        "colab_type": "code",
        "deletable": true,
        "editable": true,
        "id": "yjrPMMGyFeFA"
      },
      "outputs": [],
      "source": [
        "# Access a range of items in a sequence\n",
        "simple_string1[3:8]"
      ]
    },
    {
      "cell_type": "code",
      "execution_count": 0,
      "metadata": {
        "colab": {},
        "colab_type": "code",
        "deletable": true,
        "editable": true,
        "id": "hYzNbV30FeFC"
      },
      "outputs": [],
      "source": [
        "# Access a range of items in a sequence\n",
        "tuple1[:-3]"
      ]
    },
    {
      "cell_type": "code",
      "execution_count": 0,
      "metadata": {
        "colab": {},
        "colab_type": "code",
        "deletable": true,
        "editable": true,
        "id": "VkjatpghFeFE"
      },
      "outputs": [],
      "source": [
        "# Access a range of items in a sequence\n",
        "list1[4:]"
      ]
    },
    {
      "cell_type": "code",
      "execution_count": 0,
      "metadata": {
        "colab": {},
        "colab_type": "code",
        "deletable": true,
        "editable": true,
        "id": "k13HPeV7FeFG"
      },
      "outputs": [],
      "source": [
        "# Access an item in a dictionary\n",
        "dict1['name']"
      ]
    },
    {
      "cell_type": "code",
      "execution_count": 0,
      "metadata": {
        "colab": {},
        "colab_type": "code",
        "deletable": true,
        "editable": true,
        "id": "RrRRmLHzFeFH"
      },
      "outputs": [],
      "source": [
        "# Access an element of a sequence in a dictionary\n",
        "dict1['fav_foods'][2]"
      ]
    },
    {
      "cell_type": "markdown",
      "metadata": {
        "colab_type": "text",
        "deletable": true,
        "editable": true,
        "id": "hNIFzuiPFeFJ"
      },
      "source": [
        "## Python built-in functions and callables\n",
        "\n",
        "A **function** is a Python object that you can \"call\" to **perform an action** or compute and **return another object**. You call a function by placing parentheses to the right of the function name. Some functions allow you to pass **arguments** inside the parentheses (separating multiple arguments with a comma). Internal to the function, these arguments are treated like variables.\n",
        "\n",
        "Python has several useful built-in functions to help you work with different objects and/or your environment. Here is a small sample of them:\n",
        "\n",
        "- **`type(obj)`** to determine the type of an object\n",
        "- **`len(container)`** to determine how many items are in a container\n",
        "- **`callable(obj)`** to determine if an object is callable\n",
        "- **`sorted(container)`** to return a new list from a container, with the items sorted\n",
        "- **`sum(container)`** to compute the sum of a container of numbers\n",
        "- **`min(container)`** to determine the smallest item in a container\n",
        "- **`max(container)`** to determine the largest item in a container\n",
        "- **`abs(number)`** to determine the absolute value of a number\n",
        "- **`repr(obj)`** to return a string representation of an object\n",
        "\n",
        "> Complete list of built-in functions: https://docs.python.org/3/library/functions.html\n",
        "\n",
        "There are also different ways of defining your own functions and callable objects that we will explore later."
      ]
    },
    {
      "cell_type": "code",
      "execution_count": 0,
      "metadata": {
        "colab": {},
        "colab_type": "code",
        "deletable": true,
        "editable": true,
        "id": "2Wvp6QTxFeFK"
      },
      "outputs": [],
      "source": [
        "# Use the type() function to determine the type of an object\n",
        "type(simple_string1)"
      ]
    },
    {
      "cell_type": "code",
      "execution_count": 0,
      "metadata": {
        "colab": {},
        "colab_type": "code",
        "deletable": true,
        "editable": true,
        "id": "vMcn0RFNFeFM"
      },
      "outputs": [],
      "source": [
        "# Use the len() function to determine how many items are in a container\n",
        "len(dict1)"
      ]
    },
    {
      "cell_type": "code",
      "execution_count": 0,
      "metadata": {
        "colab": {},
        "colab_type": "code",
        "deletable": true,
        "editable": true,
        "id": "zWB4Z6qTFeFR"
      },
      "outputs": [],
      "source": [
        "# Use the len() function to determine how many items are in a container\n",
        "len(simple_string2)"
      ]
    },
    {
      "cell_type": "code",
      "execution_count": 0,
      "metadata": {
        "colab": {},
        "colab_type": "code",
        "deletable": true,
        "editable": true,
        "id": "g-0CK0smFeFT"
      },
      "outputs": [],
      "source": [
        "# Use the callable() function to determine if an object is callable\n",
        "callable(len)"
      ]
    },
    {
      "cell_type": "code",
      "execution_count": 0,
      "metadata": {
        "colab": {},
        "colab_type": "code",
        "deletable": true,
        "editable": true,
        "id": "Xgy4lhzuFeFW"
      },
      "outputs": [],
      "source": [
        "# Use the callable() function to determine if an object is callable\n",
        "callable(dict1)"
      ]
    },
    {
      "cell_type": "code",
      "execution_count": 0,
      "metadata": {
        "colab": {},
        "colab_type": "code",
        "deletable": true,
        "editable": true,
        "id": "r3iDTJBIFeFX"
      },
      "outputs": [],
      "source": [
        "# Use the sorted() function to return a new list from a container, with the items sorted\n",
        "sorted([10, 1, 3.6, 7, 5, 2, -3])"
      ]
    },
    {
      "cell_type": "code",
      "execution_count": 0,
      "metadata": {
        "colab": {},
        "colab_type": "code",
        "deletable": true,
        "editable": true,
        "id": "7pfkjLrnFeFZ"
      },
      "outputs": [],
      "source": [
        "# Use the sorted() function to return a new list from a container, with the items sorted\n",
        "# - notice that capitalized strings come first\n",
        "sorted(['dogs', 'cats', 'zebras', 'Chicago', 'California', 'ants', 'mice'])"
      ]
    },
    {
      "cell_type": "code",
      "execution_count": 0,
      "metadata": {
        "colab": {},
        "colab_type": "code",
        "deletable": true,
        "editable": true,
        "id": "Wg-Gg52LFeFb"
      },
      "outputs": [],
      "source": [
        "# Use the sum() function to compute the sum of a container of numbers\n",
        "sum([10, 1, 3.6, 7, 5, 2, -3])"
      ]
    },
    {
      "cell_type": "code",
      "execution_count": 0,
      "metadata": {
        "colab": {},
        "colab_type": "code",
        "deletable": true,
        "editable": true,
        "id": "TkH-lAAoFeFc"
      },
      "outputs": [],
      "source": [
        "# Use the min() function to determine the smallest item in a container\n",
        "min([10, 1, 3.6, 7, 5, 2, -3])"
      ]
    },
    {
      "cell_type": "code",
      "execution_count": 0,
      "metadata": {
        "colab": {},
        "colab_type": "code",
        "deletable": true,
        "editable": true,
        "id": "_gBfSW8xFeFe"
      },
      "outputs": [],
      "source": [
        "# Use the min() function to determine the smallest item in a container\n",
        "min(['g', 'z', 'a', 'y'])"
      ]
    },
    {
      "cell_type": "code",
      "execution_count": 0,
      "metadata": {
        "colab": {},
        "colab_type": "code",
        "deletable": true,
        "editable": true,
        "id": "xgm976dCFeFi"
      },
      "outputs": [],
      "source": [
        "# Use the max() function to determine the largest item in a container\n",
        "max([10, 1, 3.6, 7, 5, 2, -3])"
      ]
    },
    {
      "cell_type": "code",
      "execution_count": 0,
      "metadata": {
        "colab": {},
        "colab_type": "code",
        "deletable": true,
        "editable": true,
        "id": "ZsuT1hN6FeFk"
      },
      "outputs": [],
      "source": [
        "# Use the max() function to determine the largest item in a container\n",
        "max('gibberish')"
      ]
    },
    {
      "cell_type": "code",
      "execution_count": 0,
      "metadata": {
        "colab": {},
        "colab_type": "code",
        "deletable": true,
        "editable": true,
        "id": "nWKX7vDWFeFm"
      },
      "outputs": [],
      "source": [
        "# Use the abs() function to determine the absolute value of a number\n",
        "abs(10)"
      ]
    },
    {
      "cell_type": "code",
      "execution_count": 0,
      "metadata": {
        "colab": {},
        "colab_type": "code",
        "deletable": true,
        "editable": true,
        "id": "cHXFfZCXFeFn"
      },
      "outputs": [],
      "source": [
        "# Use the abs() function to determine the absolute value of a number\n",
        "abs(-12)"
      ]
    },
    {
      "cell_type": "code",
      "execution_count": 0,
      "metadata": {
        "colab": {},
        "colab_type": "code",
        "deletable": true,
        "editable": true,
        "id": "7SnvH-VCFeFp"
      },
      "outputs": [],
      "source": [
        "# Use the repr() function to return a string representation of an object\n",
        "repr(set1)"
      ]
    },
    {
      "cell_type": "markdown",
      "metadata": {
        "colab_type": "text",
        "deletable": true,
        "editable": true,
        "id": "GS1GToITFeFq"
      },
      "source": [
        "## Python object attributes (methods and properties)\n",
        "\n",
        "Different types of objects in Python have different **attributes** that can be referred to by name (similar to a variable). To access an attribute of an object, use a dot (`.`) after the object, then specify the attribute (i.e. `obj.attribute`)\n",
        "\n",
        "When an attribute of an object is a callable, that attribute is called a **method**. It is the same as a function, only this function is bound to a particular object.\n",
        "\n",
        "When an attribute of an object is not a callable, that attribute is called a **property**. It is just a piece of data about the object, that is itself another object.\n",
        "\n",
        "The built-in `dir()` function can be used to return a list of an object's attributes.\n",
        "\n",
        "<hr>"
      ]
    },
    {
      "cell_type": "markdown",
      "metadata": {
        "colab_type": "text",
        "deletable": true,
        "editable": true,
        "id": "i1qTuKi9FeFq"
      },
      "source": [
        "## Some methods on string objects\n",
        "\n",
        "- **`.capitalize()`** to return a capitalized version of the string (only first char uppercase)\n",
        "- **`.upper()`** to return an uppercase version of the string (all chars uppercase)\n",
        "- **`.lower()`** to return an lowercase version of the string (all chars lowercase)\n",
        "- **`.count(substring)`** to return the number of occurences of the substring in the string\n",
        "- **`.startswith(substring)`** to determine if the string starts with the substring\n",
        "- **`.endswith(substring)`** to determine if the string ends with the substring\n",
        "- **`.replace(old, new)`** to return a copy of the string with occurences of the \"old\" replaced by \"new\""
      ]
    },
    {
      "cell_type": "code",
      "execution_count": 0,
      "metadata": {
        "colab": {},
        "colab_type": "code",
        "deletable": true,
        "editable": true,
        "id": "h8AKU8RqFeFq"
      },
      "outputs": [],
      "source": [
        "# Assign a string to a variable\n",
        "a_string = 'tHis is a sTriNg'"
      ]
    },
    {
      "cell_type": "code",
      "execution_count": 0,
      "metadata": {
        "colab": {},
        "colab_type": "code",
        "deletable": true,
        "editable": true,
        "id": "6xmasSDnFeFs"
      },
      "outputs": [],
      "source": [
        "# Return a capitalized version of the string\n",
        "a_string.capitalize()"
      ]
    },
    {
      "cell_type": "code",
      "execution_count": 0,
      "metadata": {
        "colab": {},
        "colab_type": "code",
        "deletable": true,
        "editable": true,
        "id": "WQzm-VToFeFw"
      },
      "outputs": [],
      "source": [
        "# Return an uppercase version of the string\n",
        "a_string.upper()"
      ]
    },
    {
      "cell_type": "code",
      "execution_count": 0,
      "metadata": {
        "colab": {},
        "colab_type": "code",
        "deletable": true,
        "editable": true,
        "id": "zzvXS2BeFeFz"
      },
      "outputs": [],
      "source": [
        "# Return a lowercase version of the string\n",
        "a_string.lower()"
      ]
    },
    {
      "cell_type": "code",
      "execution_count": 0,
      "metadata": {
        "colab": {},
        "colab_type": "code",
        "deletable": true,
        "editable": true,
        "id": "CQTdDaSzFeF1"
      },
      "outputs": [],
      "source": [
        "# Notice that the methods called have not actually modified the string\n",
        "a_string"
      ]
    },
    {
      "cell_type": "code",
      "execution_count": 0,
      "metadata": {
        "colab": {},
        "colab_type": "code",
        "deletable": true,
        "editable": true,
        "id": "z6SjQpmyFeF4"
      },
      "outputs": [],
      "source": [
        "# Count number of occurences of a substring in the string\n",
        "a_string.count('i')"
      ]
    },
    {
      "cell_type": "code",
      "execution_count": 0,
      "metadata": {
        "colab": {},
        "colab_type": "code",
        "deletable": true,
        "editable": true,
        "id": "WiH_mxK_FeF6"
      },
      "outputs": [],
      "source": [
        "# Count number of occurences of a substring in the string after a certain position\n",
        "a_string.count('i', 7)"
      ]
    },
    {
      "cell_type": "code",
      "execution_count": 0,
      "metadata": {
        "colab": {},
        "colab_type": "code",
        "deletable": true,
        "editable": true,
        "id": "YyLyWd2ZFeF8"
      },
      "outputs": [],
      "source": [
        "# Count number of occurences of a substring in the string\n",
        "a_string.count('is')"
      ]
    },
    {
      "cell_type": "code",
      "execution_count": 0,
      "metadata": {
        "colab": {},
        "colab_type": "code",
        "deletable": true,
        "editable": true,
        "id": "6145Bn7zFeF-"
      },
      "outputs": [],
      "source": [
        "# Does the string start with 'this'?\n",
        "a_string.startswith('this')"
      ]
    },
    {
      "cell_type": "code",
      "execution_count": 0,
      "metadata": {
        "colab": {},
        "colab_type": "code",
        "deletable": true,
        "editable": true,
        "id": "oMhEp-kiFeGA"
      },
      "outputs": [],
      "source": [
        "# Does the lowercase string start with 'this'?\n",
        "a_string.lower().startswith('this')"
      ]
    },
    {
      "cell_type": "code",
      "execution_count": 0,
      "metadata": {
        "colab": {},
        "colab_type": "code",
        "deletable": true,
        "editable": true,
        "id": "3stVB3OXFeGE"
      },
      "outputs": [],
      "source": [
        "# Does the string end with 'Ng'?\n",
        "a_string.endswith('Ng')"
      ]
    },
    {
      "cell_type": "code",
      "execution_count": 0,
      "metadata": {
        "colab": {},
        "colab_type": "code",
        "deletable": true,
        "editable": true,
        "id": "uQvzbOI5FeGG"
      },
      "outputs": [],
      "source": [
        "# Return a version of the string with a substring replaced with something else\n",
        "a_string.replace('is', 'XYZ')"
      ]
    },
    {
      "cell_type": "code",
      "execution_count": 0,
      "metadata": {
        "colab": {},
        "colab_type": "code",
        "deletable": true,
        "editable": true,
        "id": "evvC1ZfxFeGH"
      },
      "outputs": [],
      "source": [
        "# Return a version of the string with a substring replaced with something else\n",
        "a_string.replace('i', '!')"
      ]
    },
    {
      "cell_type": "code",
      "execution_count": 0,
      "metadata": {
        "colab": {},
        "colab_type": "code",
        "deletable": true,
        "editable": true,
        "id": "qTw9klTdFeGK"
      },
      "outputs": [],
      "source": [
        "# Return a version of the string with the first 2 occurences a substring replaced with something else\n",
        "a_string.replace('i', '!', 2)"
      ]
    },
    {
      "cell_type": "markdown",
      "metadata": {
        "colab_type": "text",
        "collapsed": true,
        "deletable": true,
        "editable": true,
        "id": "IO1DZuoiFeGM"
      },
      "source": [
        "## Some methods on list objects\n",
        "\n",
        "- **`.append(item)`** to add a single item to the list\n",
        "- **`.extend([item1, item2, ...])`** to add multiple items to the list\n",
        "- **`.remove(item)`** to remove a single item from the list\n",
        "- **`.pop()`** to remove and return the item at the end of the list\n",
        "- **`.pop(index)`** to remove and return an item at an index"
      ]
    },
    {
      "cell_type": "code",
      "execution_count": 0,
      "metadata": {
        "colab": {},
        "colab_type": "code",
        "deletable": true,
        "editable": true,
        "id": "0yq2PTlYFeGN"
      },
      "outputs": [],
      "source": [
        "a_list = ['dogs', 'cats', 'zebras', 'Chicago', 'California', 'ants', 'mice']\n"
      ]
    },
    {
      "cell_type": "code",
      "execution_count": 0,
      "metadata": {
        "colab": {},
        "colab_type": "code",
        "deletable": true,
        "editable": true,
        "id": "zMWr9I8uFeGO"
      },
      "outputs": [],
      "source": [
        "a_list.append('parrot')\n",
        "a_list"
      ]
    },
    {
      "cell_type": "code",
      "execution_count": 0,
      "metadata": {
        "colab": {},
        "colab_type": "code",
        "id": "syBBDDe5IexA"
      },
      "outputs": [],
      "source": [
        "a_list.extend(['New York', 'Paris'])\n",
        "a_list"
      ]
    },
    {
      "cell_type": "code",
      "execution_count": 0,
      "metadata": {
        "colab": {},
        "colab_type": "code",
        "id": "_0aB84JvIzsp"
      },
      "outputs": [],
      "source": [
        "a_list.remove('cats')\n",
        "a_list"
      ]
    },
    {
      "cell_type": "code",
      "execution_count": 0,
      "metadata": {
        "colab": {},
        "colab_type": "code",
        "id": "PkbxCNtgI5ws"
      },
      "outputs": [],
      "source": [
        "a_list.pop()"
      ]
    },
    {
      "cell_type": "code",
      "execution_count": 0,
      "metadata": {
        "colab": {},
        "colab_type": "code",
        "id": "FzbfpK_SI9Vq"
      },
      "outputs": [],
      "source": [
        "a_list.pop(3)"
      ]
    },
    {
      "cell_type": "code",
      "execution_count": 0,
      "metadata": {
        "colab": {},
        "colab_type": "code",
        "id": "R9fCqFuTJDBF"
      },
      "outputs": [],
      "source": [
        "a_list"
      ]
    },
    {
      "cell_type": "markdown",
      "metadata": {
        "colab_type": "text",
        "deletable": true,
        "editable": true,
        "id": "L43_87z4FeGV"
      },
      "source": [
        "## Some methods on dict objects\n",
        "\n",
        "- **`.update([(key1, val1), (key2, val2), ...])`** to add multiple key-value pairs to the dict\n",
        "- **`.update(dict2)`** to add all keys and values from another dict to the dict\n",
        "- **`.pop(key)`** to remove key and return its value from the dict (error if key not found)\n",
        "- **`.pop(key, default_val)`** to remove key and return its value from the dict (or return default_val if key not found)\n",
        "- **`.get(key)`** to return the value at a specified key in the dict (or None if key not found)\n",
        "- **`.get(key, default_val)`** to return the value at a specified key in the dict (or default_val if key not found)\n",
        "- **`.keys()`** to return a list of keys in the dict\n",
        "- **`.values()`** to return a list of values in the dict\n",
        "- **`.items()`** to return a list of key-value pairs (tuples) in the dict"
      ]
    },
    {
      "cell_type": "code",
      "execution_count": 0,
      "metadata": {
        "colab": {},
        "colab_type": "code",
        "deletable": true,
        "editable": true,
        "id": "JssqVwOxFeGV"
      },
      "outputs": [],
      "source": [
        "age_dict = {\"Gabby\": 8 , \"Maelle\": 5}\n",
        "print(age_dict.keys())\n",
        "print(age_dict.values())\n",
        "print(age_dict.items())"
      ]
    },
    {
      "cell_type": "code",
      "execution_count": 0,
      "metadata": {
        "colab": {},
        "colab_type": "code",
        "deletable": true,
        "editable": true,
        "id": "qLY5wlFpFeGX"
      },
      "outputs": [],
      "source": [
        "age_dict.update([('Peter', 40), ('Mary', 35)])\n",
        "age_dict"
      ]
    },
    {
      "cell_type": "code",
      "execution_count": 0,
      "metadata": {
        "colab": {},
        "colab_type": "code",
        "id": "xb0c79ywxGah"
      },
      "outputs": [],
      "source": [
        "age_dict.pop(\"Gabby\")\n",
        "age_dict"
      ]
    },
    {
      "cell_type": "code",
      "execution_count": 0,
      "metadata": {
        "colab": {},
        "colab_type": "code",
        "id": "Yv3KNd0hxOmi"
      },
      "outputs": [],
      "source": [
        "age_dict.get('Peter')"
      ]
    },
    {
      "cell_type": "markdown",
      "metadata": {
        "colab_type": "text",
        "deletable": true,
        "editable": true,
        "id": "iywy5zAiFeGZ"
      },
      "source": [
        "## Positional arguments and keyword arguments to callables\n",
        "\n",
        "You can call a function/method in a number of different ways:\n",
        "\n",
        "- `func()`: Call `func` with no arguments\n",
        "- `func(arg)`: Call `func` with one positional argument\n",
        "- `func(arg1, arg2)`: Call `func` with two positional arguments\n",
        "- `func(arg1, arg2, ..., argn)`: Call `func` with many positional arguments\n",
        "- `func(kwarg=value)`: Call `func` with one keyword argument \n",
        "- `func(kwarg1=value1, kwarg2=value2)`: Call `func` with two keyword arguments\n",
        "- `func(kwarg1=value1, kwarg2=value2, ..., kwargn=valuen)`: Call `func` with many keyword arguments\n",
        "- `func(arg1, arg2, kwarg1=value1, kwarg2=value2)`: Call `func` with positonal arguments and keyword arguments\n",
        "- `obj.method()`: Same for `func`.. and every other `func` example\n",
        "\n",
        "When using **positional arguments**, you must provide them in the order that the function defined them (the function's **signature**).\n",
        "\n",
        "When using **keyword arguments**, you can provide the arguments you want, in any order you want, as long as you specify each argument's name.\n",
        "\n",
        "When using positional and keyword arguments, positional arguments must come first."
      ]
    },
    {
      "cell_type": "code",
      "execution_count": 0,
      "metadata": {
        "colab": {},
        "colab_type": "code",
        "deletable": true,
        "editable": true,
        "id": "3mrjcXJMFeGa"
      },
      "outputs": [],
      "source": [
        "def positional_function(foo, bar):\n",
        "    return foo + bar\n",
        "\n",
        "positional_function(3, 4)"
      ]
    },
    {
      "cell_type": "code",
      "execution_count": 0,
      "metadata": {
        "colab": {},
        "colab_type": "code",
        "deletable": true,
        "editable": true,
        "id": "EHYz-lr9FeGc"
      },
      "outputs": [],
      "source": [
        "def keyword_function(foo=3, bar=4):\n",
        "    return foo + bar\n",
        "\n",
        "print(keyword_function())\n",
        "print(keyword_function(bar=6, foo=5))\n",
        "print(keyword_function(7, bar=8))"
      ]
    },
    {
      "cell_type": "markdown",
      "metadata": {
        "colab_type": "text",
        "deletable": true,
        "editable": true,
        "id": "DzIrAZNbFeGd"
      },
      "source": [
        "## Formatting strings and using placeholders"
      ]
    },
    {
      "cell_type": "markdown",
      "metadata": {
        "colab_type": "text",
        "id": "f5Zv_fDxtgM5"
      },
      "source": [
        "### %-formatting"
      ]
    },
    {
      "cell_type": "code",
      "execution_count": 0,
      "metadata": {
        "colab": {},
        "colab_type": "code",
        "deletable": true,
        "editable": true,
        "id": "Ys7kcwjCFeGe"
      },
      "outputs": [],
      "source": [
        "name = 'Eric'\n",
        "age = 34\n",
        "\"Hello, %s. You are %s.\" % (name, age)"
      ]
    },
    {
      "cell_type": "markdown",
      "metadata": {
        "colab_type": "text",
        "id": "R2kQFhOGt6dV"
      },
      "source": [
        "### str.format()"
      ]
    },
    {
      "cell_type": "code",
      "execution_count": 0,
      "metadata": {
        "colab": {},
        "colab_type": "code",
        "deletable": true,
        "editable": true,
        "id": "yhcasjflFeGh"
      },
      "outputs": [],
      "source": [
        "\"Hello, {}. You are {}.\".format(name, age)"
      ]
    },
    {
      "cell_type": "code",
      "execution_count": 0,
      "metadata": {
        "colab": {},
        "colab_type": "code",
        "id": "IsETDbmkuAI7"
      },
      "outputs": [],
      "source": [
        "\"Hello, {1}. You are {0}.\".format(age, name)"
      ]
    },
    {
      "cell_type": "code",
      "execution_count": 0,
      "metadata": {
        "colab": {},
        "colab_type": "code",
        "id": "j6aAAV-EuPj2"
      },
      "outputs": [],
      "source": [
        "person = {'name': 'Eric', 'age': 74}\n",
        "\"Hello, {name}. You are {age}.\".format(name=person['name'], age=person['age'])"
      ]
    },
    {
      "cell_type": "markdown",
      "metadata": {
        "colab_type": "text",
        "id": "EsmXOY_dufE_"
      },
      "source": [
        "### f-Strings"
      ]
    },
    {
      "cell_type": "code",
      "execution_count": 0,
      "metadata": {
        "colab": {},
        "colab_type": "code",
        "id": "HOtYbOI6ug9b"
      },
      "outputs": [],
      "source": [
        "f\"Hello, {name}. You are {age}.\""
      ]
    },
    {
      "cell_type": "markdown",
      "metadata": {
        "colab_type": "text",
        "deletable": true,
        "editable": true,
        "id": "ILVbPEYjFeGl"
      },
      "source": [
        "## Python \"if statements\" and \"while loops\"\n",
        "\n",
        "Conditional expressions can be used with these two **conditional statements**.\n",
        "\n",
        "The **if statement** allows you to test a condition and perform some actions if the condition evaluates to `True`. You can also provide `elif` and/or `else` clauses to an if statement to take alternative actions if the condition evaluates to `False`.\n",
        "\n",
        "The **while loop** will keep looping until its conditional expression evaluates to `False`."
      ]
    },
    {
      "cell_type": "code",
      "execution_count": 0,
      "metadata": {
        "colab": {},
        "colab_type": "code",
        "deletable": true,
        "editable": true,
        "id": "k6t4MJtBFeGm"
      },
      "outputs": [],
      "source": [
        "color = 'green'\n",
        "if color == 'red':\n",
        "    print('The color is red')\n",
        "elif color == 'green':\n",
        "    print('The color is green')\n",
        "else:\n",
        "    print('The color is not red or green')"
      ]
    },
    {
      "cell_type": "code",
      "execution_count": 0,
      "metadata": {
        "colab": {},
        "colab_type": "code",
        "deletable": true,
        "editable": true,
        "id": "Ku2Q5lg1FeGo"
      },
      "outputs": [],
      "source": [
        "i = 0\n",
        "while i<4:\n",
        "    print(i)\n",
        "    i = i+1"
      ]
    },
    {
      "cell_type": "markdown",
      "metadata": {
        "colab_type": "text",
        "deletable": true,
        "editable": true,
        "id": "lVyhlLrlFeGi"
      },
      "source": [
        "## Python \"for loops\"\n",
        "\n",
        "It is easy to **iterate** over a collection of items using a **for loop**. The strings, lists, tuples, sets, and dictionaries we defined are all **iterable** containers.\n",
        "\n",
        "The for loop will go through the specified container, one item at a time, and provide a temporary variable for the current item. You can use this temporary variable like a normal variable.\n",
        "\n",
        "Python's range() function can be customized by supplying up to three arguments. The general format of the range function is below:\n",
        "\n",
        "```\n",
        "range(start,stop,step)\n",
        "```\n"
      ]
    },
    {
      "cell_type": "code",
      "execution_count": 0,
      "metadata": {
        "colab": {},
        "colab_type": "code",
        "deletable": true,
        "editable": true,
        "id": "3KdSHDBPFeGj"
      },
      "outputs": [],
      "source": [
        "for i in range(5,9,1):\n",
        "    print(i)"
      ]
    },
    {
      "cell_type": "code",
      "execution_count": 0,
      "metadata": {
        "colab": {},
        "colab_type": "code",
        "deletable": true,
        "editable": true,
        "id": "ThjA_c4zFeGk"
      },
      "outputs": [],
      "source": [
        "my_list = ['electrical','civil','mechanical']\n",
        "for item in my_list:\n",
        "    print(item)"
      ]
    },
    {
      "cell_type": "code",
      "execution_count": 0,
      "metadata": {
        "colab": {},
        "colab_type": "code",
        "id": "iPk57xXnwGv1"
      },
      "outputs": [],
      "source": [
        "for letter in \"Gabby\":\n",
        "    print(f\"looping over letters in name: {letter}\")"
      ]
    },
    {
      "cell_type": "markdown",
      "metadata": {
        "colab_type": "text",
        "deletable": true,
        "editable": true,
        "id": "B7Uz7gY0FeGq"
      },
      "source": [
        "## List, and dict comprehensions"
      ]
    },
    {
      "cell_type": "markdown",
      "metadata": {
        "colab_type": "text",
        "id": "S6FgIY1IJf2r"
      },
      "source": [
        "List comprehensions offer a **succinct** way to create lists based on existing lists. When using list comprehensions, lists can be built by leveraging any **iterable**, including **strings** and **tuples**."
      ]
    },
    {
      "cell_type": "code",
      "execution_count": 0,
      "metadata": {
        "colab": {},
        "colab_type": "code",
        "deletable": true,
        "editable": true,
        "id": "rF0knQHkFeGs"
      },
      "outputs": [],
      "source": [
        "shark_letters = [letter for letter in 'shark']\n",
        "shark_letters"
      ]
    },
    {
      "cell_type": "markdown",
      "metadata": {
        "colab_type": "text",
        "id": "-4yE_HAdJ7lV"
      },
      "source": [
        "### Using Conditionals with List Comprehensions"
      ]
    },
    {
      "cell_type": "code",
      "execution_count": 0,
      "metadata": {
        "colab": {},
        "colab_type": "code",
        "id": "3z8SOPhGJ23_"
      },
      "outputs": [],
      "source": [
        "fish_tuple = ('blowfish', 'clownfish', 'catfish', 'octopus')\n",
        "\n",
        "fish_list = [fish for fish in fish_tuple if fish != 'octopus']\n",
        "fish_list"
      ]
    },
    {
      "cell_type": "code",
      "execution_count": 0,
      "metadata": {
        "colab": {},
        "colab_type": "code",
        "id": "ZurhTRFJKZvT"
      },
      "outputs": [],
      "source": [
        "# Another example that uses mathematical operators, integers, and the range() sequence type\n",
        "number_list = [x ** 2 for x in range(10) if x % 2 == 0]\n",
        "number_list"
      ]
    },
    {
      "cell_type": "markdown",
      "metadata": {
        "colab_type": "text",
        "id": "YDe113NfLAXw"
      },
      "source": [
        "### Dictionary Comprehension "
      ]
    },
    {
      "cell_type": "code",
      "execution_count": 0,
      "metadata": {
        "colab": {},
        "colab_type": "code",
        "id": "2cWKbWc8K7IV"
      },
      "outputs": [],
      "source": [
        "dict1 = {'a': 1, 'b': 2, 'c': 3, 'd': 4, 'e': 5}\n",
        "# Double each value in the dictionary\n",
        "double_dict1 = {k:v*2 for (k,v) in dict1.items()}\n",
        "double_dict1"
      ]
    },
    {
      "cell_type": "code",
      "execution_count": 0,
      "metadata": {
        "colab": {},
        "colab_type": "code",
        "id": "CDaMdqSKLZ7d"
      },
      "outputs": [],
      "source": [
        "dict1_keys = {k*2:v for (k,v) in dict1.items()}\n",
        "dict1_keys"
      ]
    },
    {
      "cell_type": "code",
      "execution_count": 0,
      "metadata": {
        "colab": {},
        "colab_type": "code",
        "id": "_dsxCx2_MBdi"
      },
      "outputs": [],
      "source": [
        "dict1 = {'a': 1, 'b': 2, 'c': 3, 'd': 4, 'e': 5}\n",
        "\n",
        "# Check for items greater than 2\n",
        "dict1_cond = {k:v for (k,v) in dict1.items() if v>2}\n",
        "dict1_cond"
      ]
    },
    {
      "cell_type": "markdown",
      "metadata": {
        "colab_type": "text",
        "deletable": true,
        "editable": true,
        "id": "erCJzNDfFeGv"
      },
      "source": [
        "## Creating objects from arguments or other objects\n",
        "\n",
        "The basic types and containers we have used so far all provide **type constructors**:\n",
        "\n",
        "- `int()`\n",
        "- `float()`\n",
        "- `str()`\n",
        "- `list()`\n",
        "- `tuple()`\n",
        "- `set()`\n",
        "- `dict()`\n",
        "\n",
        "Up to this point, we have been defining objects of these built-in types using some syntactic shortcuts, since they are so common.\n",
        "\n",
        "Sometimes, you will have an object of one type that you need to convert to another type. Use the **type constructor** for the type of object you want to have, and pass in the object you currently have."
      ]
    },
    {
      "cell_type": "code",
      "execution_count": 0,
      "metadata": {
        "colab": {},
        "colab_type": "code",
        "deletable": true,
        "editable": true,
        "id": "LwOXsh2yFeGv"
      },
      "outputs": [],
      "source": [
        "int(True)"
      ]
    },
    {
      "cell_type": "code",
      "execution_count": 0,
      "metadata": {
        "colab": {},
        "colab_type": "code",
        "deletable": true,
        "editable": true,
        "id": "71ZAIMl8FeGz"
      },
      "outputs": [],
      "source": [
        "age_dict = {\"Gabby\": 8 , \"Maelle\": 5}\n",
        "age_list = list(age_dict.items())\n",
        "age_list"
      ]
    },
    {
      "cell_type": "markdown",
      "metadata": {
        "colab_type": "text",
        "deletable": true,
        "editable": true,
        "id": "z13vHSlAFeG1"
      },
      "source": [
        "## Importing modules"
      ]
    },
    {
      "cell_type": "markdown",
      "metadata": {
        "colab_type": "text",
        "id": "1B6WjckpMYLN"
      },
      "source": [
        "```\n",
        "import module_name\n",
        "```\n",
        "\n",
        "When import is used, it searches for the module initially in the local scope by calling \\_\\_import\\_\\_() function."
      ]
    },
    {
      "cell_type": "code",
      "execution_count": 0,
      "metadata": {
        "colab": {},
        "colab_type": "code",
        "deletable": true,
        "editable": true,
        "id": "SXqKi9eYFeG1"
      },
      "outputs": [],
      "source": [
        "import math\n",
        "math.pi"
      ]
    },
    {
      "cell_type": "markdown",
      "metadata": {
        "colab_type": "text",
        "id": "6Vd0eendNNWG"
      },
      "source": [
        "```\n",
        "import module_name.member_name\n",
        "```"
      ]
    },
    {
      "cell_type": "code",
      "execution_count": 0,
      "metadata": {
        "colab": {},
        "colab_type": "code",
        "deletable": true,
        "editable": true,
        "id": "o7SbLG4yFeG2"
      },
      "outputs": [],
      "source": [
        "from math import pi\n",
        "pi"
      ]
    },
    {
      "cell_type": "markdown",
      "metadata": {
        "colab_type": "text",
        "id": "IAcxAPBtNYHx"
      },
      "source": [
        "\n",
        "\n",
        "```\n",
        "from module_name import *\n",
        "```\n",
        "\n"
      ]
    },
    {
      "cell_type": "code",
      "execution_count": 0,
      "metadata": {
        "colab": {},
        "colab_type": "code",
        "id": "I30DTJmGNpBo"
      },
      "outputs": [],
      "source": [
        "from math import *\n",
        "print(pi)\n",
        "print(factorial(6))"
      ]
    },
    {
      "cell_type": "markdown",
      "metadata": {
        "colab_type": "text",
        "deletable": true,
        "editable": true,
        "id": "InAB7XAdFeG3"
      },
      "source": [
        "## Exceptions\n",
        "\n",
        "![alt text](https://res.cloudinary.com/dchysltjf/image/upload/f_auto,q_auto:best/v1574436354/error3.png)\n",
        "[Source](https://files.realpython.com/media/try_except_else_finally.a7fac6c36c55.png)"
      ]
    },
    {
      "cell_type": "markdown",
      "metadata": {
        "colab_type": "text",
        "id": "4PszMxV0OTtC"
      },
      "source": [
        "### Raising an Exception"
      ]
    },
    {
      "cell_type": "code",
      "execution_count": 0,
      "metadata": {
        "colab": {},
        "colab_type": "code",
        "deletable": true,
        "editable": true,
        "id": "V_blmsrlFeG4"
      },
      "outputs": [],
      "source": [
        "x = 10\n",
        "if x > 5:\n",
        "    raise Exception('x should not exceed 5. The value of x was: {}'.format(x))"
      ]
    },
    {
      "cell_type": "markdown",
      "metadata": {
        "colab_type": "text",
        "id": "LVPXeqN_OpLF"
      },
      "source": [
        "### Handling Exceptions: The try and except block"
      ]
    },
    {
      "cell_type": "code",
      "execution_count": 0,
      "metadata": {
        "colab": {},
        "colab_type": "code",
        "deletable": true,
        "editable": true,
        "id": "uL9CDNlSFeG5"
      },
      "outputs": [],
      "source": [
        "try:\n",
        "    with open('file.log') as file:\n",
        "        read_data = file.read()\n",
        "except:\n",
        "    print('Could not open file.log')"
      ]
    },
    {
      "cell_type": "code",
      "execution_count": 0,
      "metadata": {
        "colab": {},
        "colab_type": "code",
        "id": "4N8pW9neO99a"
      },
      "outputs": [],
      "source": [
        "# To catch this type of exception and print it to screen, you could use the following code:\n",
        "try:\n",
        "    with open('file.log') as file:\n",
        "        read_data = file.read()\n",
        "except FileNotFoundError as fnf_error:\n",
        "    print(fnf_error)"
      ]
    },
    {
      "cell_type": "code",
      "execution_count": 0,
      "metadata": {
        "colab": {},
        "colab_type": "code",
        "id": "INurl2WkQc43"
      },
      "outputs": [],
      "source": [
        "try:  \n",
        "    a = 100 / 0\n",
        "    print(a)\n",
        "except ZeroDivisionError:  \n",
        "    print(\"Zero Division Exception Raised.\")\n",
        "else:\n",
        "    print(\"Success, no error!\")\n",
        "finally:\n",
        "    print(\"Always runs!\")"
      ]
    },
    {
      "cell_type": "markdown",
      "metadata": {
        "colab_type": "text",
        "deletable": true,
        "editable": true,
        "id": "p0kyLylyFeHC"
      },
      "source": [
        "## Classes: Creating your own objects"
      ]
    },
    {
      "cell_type": "code",
      "execution_count": 0,
      "metadata": {
        "colab": {},
        "colab_type": "code",
        "deletable": true,
        "editable": true,
        "id": "6lMA6vy2FeG6"
      },
      "outputs": [],
      "source": [
        "# Define a new class called `Thing` that is derived from the base Python object\n",
        "class Thing(object):\n",
        "    my_property = 'I am a \"Thing\"'\n",
        "\n",
        "\n",
        "# Define a new class called `DictThing` that is derived from the `dict` type\n",
        "class DictThing(dict):\n",
        "    my_property = 'I am a \"DictThing\"'"
      ]
    },
    {
      "cell_type": "code",
      "execution_count": 0,
      "metadata": {
        "colab": {},
        "colab_type": "code",
        "deletable": true,
        "editable": true,
        "id": "OcuiGtidFeG7"
      },
      "outputs": [],
      "source": [
        "print(Thing)\n",
        "print(type(Thing))\n",
        "print(DictThing)\n",
        "print(type(DictThing))\n",
        "print(issubclass(DictThing, dict))\n",
        "print(issubclass(DictThing, object))"
      ]
    },
    {
      "cell_type": "code",
      "execution_count": 0,
      "metadata": {
        "colab": {},
        "colab_type": "code",
        "deletable": true,
        "editable": true,
        "id": "lplLkDR5FeG8"
      },
      "outputs": [],
      "source": [
        "# Create \"instances\" of our new classes\n",
        "t = Thing()\n",
        "d = DictThing()\n",
        "print(t)\n",
        "print(type(t))\n",
        "print(d)\n",
        "print(type(d))"
      ]
    },
    {
      "cell_type": "code",
      "execution_count": 0,
      "metadata": {
        "colab": {},
        "colab_type": "code",
        "deletable": true,
        "editable": true,
        "id": "tv4OSfvaFeG-"
      },
      "outputs": [],
      "source": [
        "# Interact with a DictThing instance just as you would a normal dictionary\n",
        "d['name'] = 'Sally'\n",
        "print(d)"
      ]
    },
    {
      "cell_type": "code",
      "execution_count": 0,
      "metadata": {
        "colab": {},
        "colab_type": "code",
        "deletable": true,
        "editable": true,
        "id": "BKyhyPbcFeG_"
      },
      "outputs": [],
      "source": [
        "d.update({\n",
        "        'age': 13,\n",
        "        'fav_foods': ['pizza', 'sushi', 'pad thai', 'waffles'],\n",
        "        'fav_color': 'green',\n",
        "    })\n",
        "print(d)"
      ]
    },
    {
      "cell_type": "code",
      "execution_count": 0,
      "metadata": {
        "colab": {},
        "colab_type": "code",
        "deletable": true,
        "editable": true,
        "id": "v8Pyi7bIFeHA"
      },
      "outputs": [],
      "source": [
        "print(d.my_property)"
      ]
    },
    {
      "cell_type": "markdown",
      "metadata": {
        "colab_type": "text",
        "deletable": true,
        "editable": true,
        "id": "nBo4zy1oFeHE"
      },
      "source": [
        "### Magic Methods: \\_\\_init__\n",
        "\n",
        "More info: [A Guide to Python's Magic Methods](https://rszalski.github.io/magicmethods/)"
      ]
    },
    {
      "cell_type": "markdown",
      "metadata": {
        "colab_type": "text",
        "id": "XBK5epYZVIBC"
      },
      "source": [
        "What are magic methods? They're everything in object-oriented Python. They're special methods that you can define to add \"magic\" to your classes. They're always surrounded by double underscores (e.g. `__init__` or `__lt__`).\n",
        "\n",
        "The most basic magic method is `__init__`. It's the way that we can define the initialization behavior of an object."
      ]
    },
    {
      "cell_type": "code",
      "execution_count": 0,
      "metadata": {
        "colab": {},
        "colab_type": "code",
        "deletable": true,
        "editable": true,
        "id": "pMDzxTbvFeHF"
      },
      "outputs": [],
      "source": [
        "class Point(object):\n",
        "    \"\"\" Point class represents and manipulates x,y coords. \"\"\"\n",
        "\n",
        "    def __init__(self, x=0, y=0):\n",
        "        \"\"\" Initialize a new point at x, y \"\"\"\n",
        "        self.x = x\n",
        "        self.y = y"
      ]
    },
    {
      "cell_type": "code",
      "execution_count": 0,
      "metadata": {
        "colab": {},
        "colab_type": "code",
        "deletable": true,
        "editable": true,
        "id": "NHh4wcUEFeHF"
      },
      "outputs": [],
      "source": [
        "p = Point(2, 3)\n",
        "p.x, p.y"
      ]
    },
    {
      "cell_type": "markdown",
      "metadata": {
        "colab_type": "text",
        "deletable": true,
        "editable": true,
        "id": "p2b8Y-CgFeHG"
      },
      "source": [
        "### Other \"magic methods\""
      ]
    },
    {
      "cell_type": "code",
      "execution_count": 0,
      "metadata": {
        "colab": {},
        "colab_type": "code",
        "deletable": true,
        "editable": true,
        "id": "rtJr1fbFFeHG"
      },
      "outputs": [],
      "source": [
        "# Comparison magic methods\n",
        "class Word(str):\n",
        "    '''Class for words, defining comparison based on word length.'''\n",
        "\n",
        "    def __new__(cls, word):\n",
        "        # Note that we have to use __new__. This is because str is an immutable\n",
        "        # type, so we have to initialize it early (at creation)\n",
        "        if ' ' in word:\n",
        "            print('Value contains spaces. Truncating to first space.')\n",
        "            word = word[:word.index(' ')] # Word is now all chars before first space\n",
        "        return str.__new__(cls, word)\n",
        "\n",
        "    def __gt__(self, other):\n",
        "        return len(self) > len(other)\n",
        "    def __lt__(self, other):\n",
        "        return len(self) < len(other)\n",
        "    def __ge__(self, other):\n",
        "        return len(self) >= len(other)\n",
        "    def __le__(self, other):\n",
        "        return len(self) <= len(other)"
      ]
    },
    {
      "cell_type": "code",
      "execution_count": 0,
      "metadata": {
        "colab": {},
        "colab_type": "code",
        "deletable": true,
        "editable": true,
        "id": "jW0Hx2FyFeHH"
      },
      "outputs": [],
      "source": [
        "word1 = Word('dog')\n",
        "word2 = Word('zebra')\n",
        "print(word1 > word2)\n",
        "print(word1 < word2)"
      ]
    },
    {
      "cell_type": "markdown",
      "metadata": {
        "colab_type": "text",
        "deletable": true,
        "editable": true,
        "id": "6A1Wb0__FeHK"
      },
      "source": [
        "## Context managers and the \"with statement\"\n",
        "\n",
        "Using `with`, we can call anything that returns a context manager (like the built-in `open()` function). We assign it to a variable using ... `as <variable_name>`. Crucially, the variable only exists within the indented block below the with statement.\n",
        "\n",
        "The `with` statement clarifies code that previously would use try...finally blocks to ensure that clean-up code is executed\n",
        "\n",
        "```\n",
        "with expression [as variable]:\n",
        "    with-block\n",
        "```\n",
        "\n",
        "To use with statement in user defined objects you only need to add the methods `__enter__()` and `__exit__()` in the object methods.\n",
        "\n"
      ]
    },
    {
      "cell_type": "code",
      "execution_count": 0,
      "metadata": {
        "colab": {},
        "colab_type": "code",
        "deletable": true,
        "editable": true,
        "id": "z8g2KJ2GFeHK"
      },
      "outputs": [],
      "source": [
        "from threading import Lock\n",
        "lock = Lock()\n",
        "\n",
        "def do_something_dangerous():\n",
        "    with lock:\n",
        "        raise Exception('oops I forgot this code could raise exceptions')\n",
        "\n",
        "try:\n",
        "    do_something_dangerous()\n",
        "except:\n",
        "    print('Got an exception')\n",
        "lock.acquire()\n",
        "print('Got here')"
      ]
    },
    {
      "cell_type": "markdown",
      "metadata": {
        "colab_type": "text",
        "id": "nJYvDKFBmfyn"
      },
      "source": [
        "---\n",
        "**[Week 1 - Python](https://radu-enuca.gitbook.io/ml-challenge/python)**\n",
        "\n",
        "*Have questions or comments? Visit the ML Challenge Mattermost Channel.*"
      ]
    }
  ]
}